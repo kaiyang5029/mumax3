// Material parameters
Aex = 12e-12 // Exchange in J/m^3
Msat = 1e6 //Saturation magnetisation in A/m
Ku1 = 0.6e6 // Anisotropy in J/m^3
AnisU = vector(0, 0, 1) //Uniaxial anisotropy direction 
Dbulk = 0
Dind = 2e-3 //Interfacial DMI in J/m^2

// Damping
alpha = 0.05		 

// Non-adiabaticity of spin-transfer-torque 
xi = 0.2

// Simulation mesh
SetGridsize(256, 32, 1)
SetCellsize(4e-9, 4e-9, 1e-9)

// set external field and temp
B_ext = vector(0, 0, 0)
Temp = 0.0

// choose solver
SetSolver(5) 

// ----------------------------

//m = Uniform(0, 0, 1) 

B_ext = vector(0, 0, 0.2)

// Run with current through the sample
//j = vector(-1e12, 0, 0)

AutoSnapshot(m, 0.5e-9)
RunWhile(MaxTorque>5e-3)

// ----------------------------
